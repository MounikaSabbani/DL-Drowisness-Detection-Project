{
 "cells": [
  {
   "cell_type": "code",
   "execution_count": 1,
   "metadata": {},
   "outputs": [],
   "source": [
    "import pandas as pd\n",
    "import numpy as np \n",
    "from matplotlib import pyplot\n",
    "from sklearn.preprocessing import MinMaxScaler\n",
    "from keras.models import Sequential\n",
    "from keras.layers import Dense\n",
    "from keras.layers import LSTM\n",
    "from keras.utils import to_categorical\n",
    "from tensorflow.keras.optimizers import SGD, RMSprop, Adam\n",
    "import sys \n",
    "sys.path.append(\"//home/mounika//Documents//IUPUI//Courses//Deep Learning //Project//DDD_copy\")\n",
    "import os\n",
    "import glob\n",
    "import logging\n",
    "import re\n",
    "from sklearn.metrics import roc_curve\n",
    "from sklearn.metrics import roc_auc_score"
   ]
  },
  {
   "cell_type": "code",
   "execution_count": 2,
   "metadata": {},
   "outputs": [],
   "source": [
    "# Load and prepare dataset\n",
    "# resample value\n",
    "ir_val = '100ms'\n",
    "# step size\n",
    "n_steps = 20"
   ]
  },
  {
   "cell_type": "code",
   "execution_count": 3,
   "metadata": {},
   "outputs": [],
   "source": [
    "# Code Tune\n",
    "logging.getLogger().setLevel(logging.INFO)\n",
    "\n",
    "csv_pick_regex= r'6*_[5,0].csv'\n",
    "csv_pick_regex= r'6*.csv'"
   ]
  },
  {
   "cell_type": "code",
   "execution_count": 4,
   "metadata": {},
   "outputs": [],
   "source": [
    "# Table Tune\n",
    "face_points_to_keep = []\n",
    "face_points_to_keep += [9]                     # Nose\n",
    "face_points_to_keep += [37,38,39,40,41,42]     # Left Eye\n",
    "face_points_to_keep += [43,44,45,46,47,48]     # Right Eye\n",
    "face_points_to_keep += [49, 50, 51, 52, 53, 54, 55, 56, 57, 58, 59] # Outer Lip"
   ]
  },
  {
   "cell_type": "code",
   "execution_count": 5,
   "metadata": {},
   "outputs": [],
   "source": [
    "columns_to_keep = ['participant', 'mood', 'time'] + \\\n",
    "                    [f'px_{x}' for x in face_points_to_keep] + \\\n",
    "                    [f'py_{x}' for x in face_points_to_keep] +\\\n",
    "                    ['face_x','face_y','face_w','face_h']"
   ]
  },
  {
   "cell_type": "code",
   "execution_count": 6,
   "metadata": {},
   "outputs": [],
   "source": [
    "def get_table(participant, mood, start_time=61, stop_time=361, resample_interval='100ms', \n",
    "                base_path=None):\n",
    "    \n",
    "    # Find File\n",
    "    if base_path is None:\n",
    "        base = os.path.join('output','csv')\n",
    "    else:\n",
    "        base = base_path\n",
    "    \n",
    "    files = glob.glob(os.path.join(base, f'{participant}_{mood}.csv'))\n",
    "    \n",
    "    if(len(files) !=1 ):\n",
    "        logging.error(f\"Looked for {participant}_{mood}.csv and found {len(files)} tables. Need to match with one table only.\")\n",
    "        raise RuntimeError\n",
    "\n",
    "    # Load\n",
    "    logging.info(f\"loading {files[0]}\")\n",
    "    table = pd.read_csv(files[0])\n",
    "\n",
    "    # Resample time\n",
    "    table['date'] = pd.to_datetime(table.time, unit='s')\n",
    "    if resample_interval is not None:\n",
    "        table = table.resample(resample_interval, on = 'date').mean()\n",
    "    else:\n",
    "        table.set_index('date', inplace = True)\n",
    "    \n",
    "    # Drop columns we don't need\n",
    "    table = table.filter(columns_to_keep)\n",
    "\n",
    "    # Trim head and tail of the video\n",
    "    table.drop(table[ table['time'] > stop_time ].index, inplace=True)\n",
    "    table.drop(table[ table['time'] < start_time ].index, inplace=True)\n",
    "\n",
    "    # Fill missing data\n",
    "    table.replace(-1, np.NaN, inplace=True)\n",
    "    table.interpolate(inplace=True, limit_direction='both')\n",
    "\n",
    "    # Fix Data Types\n",
    "    table[['participant', 'mood']] = table[['participant', 'mood']].astype('int32')\n",
    "    # pxy_cols = [x for x in table.columns if re.compile('p[xy]_*').match(x)]\n",
    "    # table[pxy_cols] = table[pxy_cols].astype('int32')\n",
    "\n",
    "\n",
    "    return table"
   ]
  },
  {
   "cell_type": "code",
   "execution_count": 7,
   "metadata": {},
   "outputs": [],
   "source": [
    "def ratio_6(table, t1,t2,b1,b2,l,r):\n",
    "    x1_m= mid(table[f'px_{t1}'], table[f'px_{t2}'])\n",
    "    y1_m = mid(table[f'py_{t1}'], table[f'py_{t2}'])\n",
    "    x2_m = mid(table[f'px_{b1}'], table[f'px_{b2}'])\n",
    "    y2_m = mid(table[f'py_{b1}'], table[f'py_{b2}'])\n",
    "\n",
    "    return dist(x1_m,y1_m,x2_m,y2_m) / dist(table[f'px_{l}'], table[f'py_{l}'], table[f'px_{r}'], table[f'py_{r}'])"
   ]
  },
  {
   "cell_type": "code",
   "execution_count": 8,
   "metadata": {},
   "outputs": [],
   "source": [
    "def mid(x1, x2):\n",
    "    return (x1+x2)/2"
   ]
  },
  {
   "cell_type": "code",
   "execution_count": 9,
   "metadata": {},
   "outputs": [],
   "source": [
    "def ratio_4(table, t,b,l,r):\n",
    "    return dist(table[f'px_{t}'],table[f'py_{t}'],table[f'px_{b}'],table[f'py_{b}']) / dist(table[f'px_{l}'], table[f'py_{l}'], table[f'px_{r}'], table[f'py_{r}'])"
   ]
  },
  {
   "cell_type": "code",
   "execution_count": 10,
   "metadata": {},
   "outputs": [],
   "source": [
    "def dist(mx, my ,nx, ny):\n",
    "\n",
    "    return np.sqrt(np.square(mx-nx) + np.square(my-ny))"
   ]
  },
  {
   "cell_type": "code",
   "execution_count": 11,
   "metadata": {},
   "outputs": [
    {
     "name": "stderr",
     "output_type": "stream",
     "text": [
      "INFO:root:loading output/csv/18_0.csv\n",
      "INFO:root:loading output/csv/26_0.csv\n",
      "INFO:root:loading output/csv/26_10.csv\n",
      "INFO:root:loading output/csv/27_0.csv\n",
      "INFO:root:loading output/csv/27_10.csv\n",
      "INFO:root:loading output/csv/34_10.csv\n",
      "INFO:root:loading output/csv/37_0.csv\n",
      "INFO:root:loading output/csv/37_10.csv\n",
      "INFO:root:loading output/csv/45_10.csv\n",
      "INFO:root:loading output/csv/49_0.csv\n",
      "INFO:root:loading output/csv/50_10.csv\n",
      "INFO:root:loading output/csv/51_0.csv\n",
      "INFO:root:loading output/csv/60_0.csv\n",
      "INFO:root:loading output/csv/60_10.csv\n",
      "INFO:root:loading output/csv/31_10.csv\n",
      "INFO:root:loading output/csv/31_0.csv\n"
     ]
    }
   ],
   "source": [
    "# Load and prepare dataset\n",
    "df01= get_table(18,0, resample_interval= ir_val)#[:n_size]\n",
    "df02 = get_table(26,0, resample_interval= ir_val)#[:n_size]\n",
    "df03 = get_table(26,10, resample_interval= ir_val)#[:n_size]\n",
    "df04 = get_table(27,0, resample_interval= ir_val)#[:n_size]\n",
    "df05 = get_table(27,10, resample_interval= ir_val)#[:n_size]\n",
    "df06 = get_table(34,10, resample_interval= ir_val)#[:n_size]\n",
    "df07 = get_table(37,0, resample_interval= ir_val)#[:n_size]\n",
    "df08 = get_table(37,10, resample_interval= ir_val)#[:n_size]\n",
    "df09 = get_table(45,10, resample_interval= ir_val)#[:n_size]\n",
    "df10 = get_table(49,0, resample_interval= ir_val)#[:n_size]\n",
    "df11 = get_table(50,10, resample_interval= ir_val)#[:n_size]\n",
    "df12 = get_table(51,0, resample_interval= ir_val)#[:n_size]\n",
    "df13 = get_table(60,0, resample_interval= ir_val)#[:n_size]\n",
    "df14 = get_table(60,10, resample_interval= ir_val)#[:n_size]\n",
    "df15 = get_table(31,10, resample_interval= ir_val)#[:n_size]\n",
    "df16 = get_table(31,0, resample_interval= ir_val)#[:n_size]"
   ]
  },
  {
   "cell_type": "code",
   "execution_count": 12,
   "metadata": {},
   "outputs": [],
   "source": [
    "# concatenate datasize\n",
    "dfs = [df01,df02,df03,df04,df05,df06,df07,df08,df09,df10,df11,df12,df13,df14,df15,df16]"
   ]
  },
  {
   "cell_type": "code",
   "execution_count": 13,
   "metadata": {},
   "outputs": [],
   "source": [
    "dataset = pd.concat(dfs,axis=0)"
   ]
  },
  {
   "cell_type": "code",
   "execution_count": 14,
   "metadata": {},
   "outputs": [],
   "source": [
    "#Calculate eye and mouth ratio \n",
    "dataset['eye_l_ratio'] = ratio_6(dataset,38,39,41,42,37,40) \n",
    "dataset['eye_r_ratio'] = ratio_6(dataset,44,45,47,48,43,46)\n",
    "dataset['mouth_ratio'] = ratio_4(dataset,52,58,49,55)"
   ]
  },
  {
   "cell_type": "code",
   "execution_count": 15,
   "metadata": {},
   "outputs": [],
   "source": [
    "dataset.drop(['face_x', 'face_y', 'face_w', 'face_h','time'], axis=1,inplace=True)"
   ]
  },
  {
   "cell_type": "code",
   "execution_count": 16,
   "metadata": {},
   "outputs": [],
   "source": [
    "values = dataset\n",
    "values = values.astype('float32')\n",
    "values.drop(['mood','participant'],axis=1,inplace=True)"
   ]
  },
  {
   "cell_type": "code",
   "execution_count": 17,
   "metadata": {},
   "outputs": [
    {
     "name": "stderr",
     "output_type": "stream",
     "text": [
      "/home/mounika/anaconda3/lib/python3.7/site-packages/sklearn/preprocessing/data.py:334: DataConversionWarning: Data with input dtype float32 were all converted to float64 by MinMaxScaler.\n",
      "  return self.partial_fit(X, y)\n"
     ]
    }
   ],
   "source": [
    "X = values\n",
    "# normalize features\n",
    "scaler = MinMaxScaler(feature_range=(0, 1))\n",
    "X = scaler.fit_transform(X)\n",
    "# define y (drowsy or alert)\n",
    "y = dataset.mood[0:X.shape[0]].values\n",
    "y[y!=0]=1\n",
    "y = to_categorical(y)\n"
   ]
  },
  {
   "cell_type": "code",
   "execution_count": 18,
   "metadata": {},
   "outputs": [],
   "source": [
    "# Use first 14 videos for training, and last two for testing \n",
    "train_size = int((dataset.shape[0]*(13/16)))\n",
    "X_train = X[0:train_size] \n",
    "X_test = X[train_size:X.shape[0]]\n",
    "y_train = y[0:train_size] \n",
    "y_test = y[train_size:X.shape[0]]"
   ]
  },
  {
   "cell_type": "code",
   "execution_count": 19,
   "metadata": {},
   "outputs": [
    {
     "name": "stdout",
     "output_type": "stream",
     "text": [
      "(39000, 51)\n"
     ]
    }
   ],
   "source": [
    "print(X_train.shape)"
   ]
  },
  {
   "cell_type": "code",
   "execution_count": 20,
   "metadata": {},
   "outputs": [
    {
     "name": "stdout",
     "output_type": "stream",
     "text": [
      "39000\n"
     ]
    }
   ],
   "source": [
    "print(train_size)"
   ]
  },
  {
   "cell_type": "code",
   "execution_count": 21,
   "metadata": {},
   "outputs": [
    {
     "name": "stdout",
     "output_type": "stream",
     "text": [
      "(1950, 20, 51) (1950, 2) (450, 20, 51) (450, 2)\n"
     ]
    }
   ],
   "source": [
    "# Reshape input to 3D \n",
    "train_resize = int(X_train.shape[0]/n_steps)\n",
    "test_resize = int(X_test.shape[0]/n_steps)\n",
    "\n",
    "X_train = X_train.reshape(train_resize,n_steps,X.shape[1])\n",
    "y_train = y_train[::n_steps]\n",
    "X_test = X_test.reshape(test_resize,n_steps,X.shape[1])\n",
    "y_test = y_test[::n_steps]\n",
    "print(X_train.shape, y_train.shape, X_test.shape, y_test.shape)"
   ]
  },
  {
   "cell_type": "code",
   "execution_count": 30,
   "metadata": {},
   "outputs": [],
   "source": [
    "from keras.layers import Dropout\n",
    "import timeit\n",
    "\n",
    "start = timeit.default_timer()\n",
    "\n",
    "model = Sequential()\n",
    "model.add(LSTM(100, input_shape=(X_train.shape[1], X_train.shape[2]),return_sequences=True))\n",
    "model.add(LSTM(100,return_sequences=False))\n",
    "#model.add(LSTM(50,return_sequences=False))\n",
    "#model.add(Flatten())\n",
    "#model.add(Dense(1024, activation='relu'))\n",
    "#model.add(Dense(512, activation='relu'))\n",
    "model.add(Dropout(0.02))\n",
    "model.add(Dense(2, activation='sigmoid'))\n",
    "optimizer = RMSprop(lr = 0.01)\n",
    "#model.compile(loss='categorical_crossentropy', optimizer=optimizer,metrics=['accuracy'])\n",
    "model.compile(loss='binary_crossentropy', optimizer=optimizer,metrics=['accuracy'])"
   ]
  },
  {
   "cell_type": "code",
   "execution_count": 31,
   "metadata": {},
   "outputs": [
    {
     "name": "stdout",
     "output_type": "stream",
     "text": [
      "Model: \"sequential_1\"\n",
      "_________________________________________________________________\n",
      "Layer (type)                 Output Shape              Param #   \n",
      "=================================================================\n",
      "lstm_2 (LSTM)                (None, 20, 100)           60800     \n",
      "_________________________________________________________________\n",
      "lstm_3 (LSTM)                (None, 100)               80400     \n",
      "_________________________________________________________________\n",
      "dropout_1 (Dropout)          (None, 100)               0         \n",
      "_________________________________________________________________\n",
      "dense_1 (Dense)              (None, 2)                 202       \n",
      "=================================================================\n",
      "Total params: 141,402\n",
      "Trainable params: 141,402\n",
      "Non-trainable params: 0\n",
      "_________________________________________________________________\n"
     ]
    }
   ],
   "source": [
    "model.summary()"
   ]
  },
  {
   "cell_type": "code",
   "execution_count": 32,
   "metadata": {},
   "outputs": [
    {
     "name": "stdout",
     "output_type": "stream",
     "text": [
      "Epoch 1/50\n",
      "61/61 - 2s - loss: 0.7845 - accuracy: 0.6810 - val_loss: 1.7589 - val_accuracy: 0.3333\n",
      "Epoch 2/50\n",
      "61/61 - 1s - loss: 0.6430 - accuracy: 0.7123 - val_loss: 2.9135 - val_accuracy: 0.3333\n",
      "Epoch 3/50\n",
      "61/61 - 1s - loss: 0.5940 - accuracy: 0.7354 - val_loss: 2.4636 - val_accuracy: 0.3333\n",
      "Epoch 4/50\n",
      "61/61 - 1s - loss: 0.5965 - accuracy: 0.7759 - val_loss: 2.4276 - val_accuracy: 0.3333\n",
      "Epoch 5/50\n",
      "61/61 - 1s - loss: 0.5869 - accuracy: 0.7462 - val_loss: 3.0234 - val_accuracy: 0.3333\n",
      "Epoch 6/50\n",
      "61/61 - 1s - loss: 0.5631 - accuracy: 0.7205 - val_loss: 2.7582 - val_accuracy: 0.3333\n",
      "Epoch 7/50\n",
      "61/61 - 1s - loss: 0.5564 - accuracy: 0.7256 - val_loss: 3.3257 - val_accuracy: 0.3333\n",
      "Epoch 8/50\n",
      "61/61 - 1s - loss: 0.5752 - accuracy: 0.7077 - val_loss: 3.0652 - val_accuracy: 0.3333\n",
      "Epoch 9/50\n",
      "61/61 - 1s - loss: 0.5364 - accuracy: 0.7462 - val_loss: 2.7910 - val_accuracy: 0.4711\n",
      "Epoch 10/50\n",
      "61/61 - 1s - loss: 0.5634 - accuracy: 0.7262 - val_loss: 3.1268 - val_accuracy: 0.3333\n",
      "Epoch 11/50\n",
      "61/61 - 1s - loss: 0.5570 - accuracy: 0.6831 - val_loss: 2.7045 - val_accuracy: 0.3333\n",
      "Epoch 12/50\n",
      "61/61 - 1s - loss: 0.5282 - accuracy: 0.7190 - val_loss: 3.3259 - val_accuracy: 0.3333\n",
      "Epoch 13/50\n",
      "61/61 - 1s - loss: 0.5338 - accuracy: 0.7533 - val_loss: 3.4387 - val_accuracy: 0.3333\n",
      "Epoch 14/50\n",
      "61/61 - 1s - loss: 0.5374 - accuracy: 0.7590 - val_loss: 3.7566 - val_accuracy: 0.3333\n",
      "Epoch 15/50\n",
      "61/61 - 1s - loss: 0.4884 - accuracy: 0.7790 - val_loss: 4.1526 - val_accuracy: 0.3333\n",
      "Epoch 16/50\n",
      "61/61 - 1s - loss: 0.5753 - accuracy: 0.7805 - val_loss: 2.2363 - val_accuracy: 0.3333\n",
      "Epoch 17/50\n",
      "61/61 - 1s - loss: 0.4999 - accuracy: 0.7708 - val_loss: 2.7969 - val_accuracy: 0.3333\n",
      "Epoch 18/50\n",
      "61/61 - 1s - loss: 0.5003 - accuracy: 0.7882 - val_loss: 3.3049 - val_accuracy: 0.3333\n",
      "Epoch 19/50\n",
      "61/61 - 1s - loss: 0.4103 - accuracy: 0.8328 - val_loss: 4.2967 - val_accuracy: 0.3333\n",
      "Epoch 20/50\n",
      "61/61 - 1s - loss: 0.3308 - accuracy: 0.8569 - val_loss: 4.8128 - val_accuracy: 0.3333\n",
      "Epoch 21/50\n",
      "61/61 - 1s - loss: 0.5340 - accuracy: 0.8118 - val_loss: 5.3660 - val_accuracy: 0.3333\n",
      "Epoch 22/50\n",
      "61/61 - 1s - loss: 0.4628 - accuracy: 0.8338 - val_loss: 2.1175 - val_accuracy: 0.5489\n",
      "Epoch 23/50\n",
      "61/61 - 1s - loss: 0.4919 - accuracy: 0.8015 - val_loss: 2.8090 - val_accuracy: 0.3844\n",
      "Epoch 24/50\n",
      "61/61 - 1s - loss: 0.4356 - accuracy: 0.8097 - val_loss: 3.3456 - val_accuracy: 0.4244\n",
      "Epoch 25/50\n",
      "61/61 - 1s - loss: 0.4753 - accuracy: 0.7759 - val_loss: 2.4370 - val_accuracy: 0.3333\n",
      "Epoch 26/50\n",
      "61/61 - 1s - loss: 0.3831 - accuracy: 0.8846 - val_loss: 3.2901 - val_accuracy: 0.4911\n",
      "Epoch 27/50\n",
      "61/61 - 1s - loss: 0.3307 - accuracy: 0.8969 - val_loss: 2.5694 - val_accuracy: 0.6489\n",
      "Epoch 28/50\n",
      "61/61 - 1s - loss: 0.4759 - accuracy: 0.8144 - val_loss: 2.8425 - val_accuracy: 0.4556\n",
      "Epoch 29/50\n",
      "61/61 - 1s - loss: 0.4192 - accuracy: 0.8826 - val_loss: 2.3044 - val_accuracy: 0.3467\n",
      "Epoch 30/50\n",
      "61/61 - 1s - loss: 0.4746 - accuracy: 0.8667 - val_loss: 2.2010 - val_accuracy: 0.2378\n",
      "Epoch 31/50\n",
      "61/61 - 2s - loss: 0.4945 - accuracy: 0.8605 - val_loss: 2.1698 - val_accuracy: 0.2489\n",
      "Epoch 32/50\n",
      "61/61 - 1s - loss: 0.4412 - accuracy: 0.8508 - val_loss: 2.0772 - val_accuracy: 0.2333\n",
      "Epoch 33/50\n",
      "61/61 - 1s - loss: 0.4566 - accuracy: 0.8195 - val_loss: 1.8795 - val_accuracy: 0.3689\n",
      "Epoch 34/50\n",
      "61/61 - 1s - loss: 0.3906 - accuracy: 0.8585 - val_loss: 2.5663 - val_accuracy: 0.2267\n",
      "Epoch 35/50\n",
      "61/61 - 1s - loss: 0.3884 - accuracy: 0.8810 - val_loss: 1.8198 - val_accuracy: 0.3400\n",
      "Epoch 36/50\n",
      "61/61 - 1s - loss: 0.3446 - accuracy: 0.8944 - val_loss: 2.1317 - val_accuracy: 0.2978\n",
      "Epoch 37/50\n",
      "61/61 - 1s - loss: 0.3419 - accuracy: 0.8892 - val_loss: 2.1656 - val_accuracy: 0.3356\n",
      "Epoch 38/50\n",
      "61/61 - 1s - loss: 0.3363 - accuracy: 0.8821 - val_loss: 1.8564 - val_accuracy: 0.3400\n",
      "Epoch 39/50\n",
      "61/61 - 1s - loss: 0.4618 - accuracy: 0.8497 - val_loss: 1.9067 - val_accuracy: 0.2244\n",
      "Epoch 40/50\n",
      "61/61 - 1s - loss: 0.3523 - accuracy: 0.8882 - val_loss: 2.0951 - val_accuracy: 0.3289\n",
      "Epoch 41/50\n",
      "61/61 - 1s - loss: 0.3806 - accuracy: 0.8733 - val_loss: 2.1832 - val_accuracy: 0.2444\n",
      "Epoch 42/50\n",
      "61/61 - 1s - loss: 0.3352 - accuracy: 0.8913 - val_loss: 2.3898 - val_accuracy: 0.3400\n",
      "Epoch 43/50\n",
      "61/61 - 2s - loss: 0.4833 - accuracy: 0.8405 - val_loss: 2.0359 - val_accuracy: 0.3356\n",
      "Epoch 44/50\n",
      "61/61 - 1s - loss: 0.3829 - accuracy: 0.8887 - val_loss: 2.3287 - val_accuracy: 0.3333\n",
      "Epoch 45/50\n",
      "61/61 - 1s - loss: 0.4609 - accuracy: 0.8574 - val_loss: 1.8327 - val_accuracy: 0.3356\n",
      "Epoch 46/50\n",
      "61/61 - 1s - loss: 0.3021 - accuracy: 0.8805 - val_loss: 4.7617 - val_accuracy: 0.4533\n",
      "Epoch 47/50\n",
      "61/61 - 2s - loss: 0.3747 - accuracy: 0.8754 - val_loss: 4.2376 - val_accuracy: 0.3356\n",
      "Epoch 48/50\n",
      "61/61 - 1s - loss: 0.5123 - accuracy: 0.8287 - val_loss: 2.5430 - val_accuracy: 0.4378\n",
      "Epoch 49/50\n",
      "61/61 - 1s - loss: 0.4591 - accuracy: 0.8210 - val_loss: 1.6610 - val_accuracy: 0.6400\n",
      "Epoch 50/50\n",
      "61/61 - 1s - loss: 0.4111 - accuracy: 0.8954 - val_loss: 2.8158 - val_accuracy: 0.6667\n"
     ]
    }
   ],
   "source": [
    "history = model.fit(X_train, y_train, epochs=50, batch_size=32, validation_data=(X_test, y_test), verbose=2, shuffle=False)"
   ]
  },
  {
   "cell_type": "code",
   "execution_count": 33,
   "metadata": {},
   "outputs": [
    {
     "name": "stdout",
     "output_type": "stream",
     "text": [
      "Time:  129.24377384397667\n"
     ]
    }
   ],
   "source": [
    "stop = timeit.default_timer()\n",
    "\n",
    "print('Time: ', stop - start)  "
   ]
  },
  {
   "cell_type": "code",
   "execution_count": 34,
   "metadata": {},
   "outputs": [
    {
     "data": {
      "image/png": "[encoded data removed]",
      "text/plain": [
       "<Figure size 432x288 with 1 Axes>"
      ]
     },
     "metadata": {
      "needs_background": "light"
     },
     "output_type": "display_data"
    }
   ],
   "source": [
    "# plot loss and accuracy history \n",
    "pyplot.plot(history.history['loss'], label='train')\n",
    "pyplot.plot(history.history['val_loss'], label='test')\n",
    "pyplot.legend()\n",
    "pyplot.xlabel('epochs')\n",
    "pyplot.ylabel('loss')\n",
    "pyplot.show()"
   ]
  },
  {
   "cell_type": "code",
   "execution_count": 35,
   "metadata": {},
   "outputs": [
    {
     "name": "stdout",
     "output_type": "stream",
     "text": [
      "Train: 0.733, Testing: 0.667\n"
     ]
    }
   ],
   "source": [
    "_, train_acc = model.evaluate(X_train, y_train, verbose=0)\n",
    "_, val_acc = model.evaluate(X_test, y_test, verbose=0)\n",
    "print('Train: %.3f, Testing: %.3f' % (train_acc, val_acc))"
   ]
  },
  {
   "cell_type": "code",
   "execution_count": 36,
   "metadata": {},
   "outputs": [
    {
     "data": {
      "image/png": "[encoded data removed]",
      "text/plain": [
       "<Figure size 432x288 with 1 Axes>"
      ]
     },
     "metadata": {
      "needs_background": "light"
     },
     "output_type": "display_data"
    }
   ],
   "source": [
    "#plot history\n",
    "pyplot.plot(history.history['accuracy'], label='train')\n",
    "pyplot.plot(history.history['val_accuracy'], label='test')\n",
    "pyplot.xlabel('epochs')\n",
    "pyplot.ylabel('accuracy')\n",
    "pyplot.legend()\n",
    "pyplot.show()"
   ]
  },
  {
   "cell_type": "code",
   "execution_count": 37,
   "metadata": {},
   "outputs": [
    {
     "name": "stdout",
     "output_type": "stream",
     "text": [
      "ROC AUC=0.501\n"
     ]
    }
   ],
   "source": [
    "# show auc curve\n",
    "y_pred = model.predict(X_test)\n",
    "prob = model.predict_proba(X_test)\n",
    "prob = prob[:,1]\n",
    "y_true = y_test[:,1]\n",
    "# calculate scores\n",
    "ffe_auc = roc_auc_score(y_true, prob)\n",
    "# summarize scores\n",
    "print('ROC AUC=%.3f' % (ffe_auc))"
   ]
  },
  {
   "cell_type": "code",
   "execution_count": 38,
   "metadata": {},
   "outputs": [
    {
     "data": {
      "text/plain": [
       "Text(0, 0.5, 'True Positive Rate')"
      ]
     },
     "execution_count": 38,
     "metadata": {},
     "output_type": "execute_result"
    },
    {
     "data": {
      "image/png": "[encoded data removed]",
      "text/plain": [
       "<Figure size 432x288 with 1 Axes>"
      ]
     },
     "metadata": {
      "needs_background": "light"
     },
     "output_type": "display_data"
    }
   ],
   "source": [
    "# calculate roc curves\n",
    "fpr, tpr, _ = roc_curve(y_true, prob)\n",
    "# plot the roc curve for the model\n",
    "pyplot.plot(fpr, tpr, linestyle='-', label='FFE-LSTM')\n",
    "# axis labels\n",
    "pyplot.xlabel('False Positive Rate')\n",
    "pyplot.ylabel('True Positive Rate')"
   ]
  },
  {
   "cell_type": "code",
   "execution_count": 39,
   "metadata": {},
   "outputs": [
    {
     "data": {
      "image/png": "[encoded data removed]",
      "text/plain": [
       "<Figure size 432x288 with 1 Axes>"
      ]
     },
     "metadata": {
      "needs_background": "light"
     },
     "output_type": "display_data"
    }
   ],
   "source": [
    "pyplot.plot(prob, label='y_pred')\n",
    "pyplot.plot(y_true, label='y_true')\n",
    "pyplot.legend()\n",
    "pyplot.xlabel('Samples')\n",
    "pyplot.ylabel('Prediction')\n",
    "pyplot.show()\n"
   ]
  },
  {
   "cell_type": "code",
   "execution_count": 85,
   "metadata": {},
   "outputs": [
    {
     "name": "stderr",
     "output_type": "stream",
     "text": [
      "/home/mounika/anaconda3/lib/python3.7/site-packages/ipykernel_launcher.py:7: SettingWithCopyWarning: \n",
      "A value is trying to be set on a copy of a slice from a DataFrame.\n",
      "Try using .loc[row_indexer,col_indexer] = value instead\n",
      "\n",
      "See the caveats in the documentation: http://pandas.pydata.org/pandas-docs/stable/indexing.html#indexing-view-versus-copy\n",
      "  import sys\n",
      "/home/mounika/anaconda3/lib/python3.7/site-packages/ipykernel_launcher.py:8: SettingWithCopyWarning: \n",
      "A value is trying to be set on a copy of a slice from a DataFrame.\n",
      "Try using .loc[row_indexer,col_indexer] = value instead\n",
      "\n",
      "See the caveats in the documentation: http://pandas.pydata.org/pandas-docs/stable/indexing.html#indexing-view-versus-copy\n",
      "  \n"
     ]
    }
   ],
   "source": [
    "# Save predictions to csv with participant, mood, EAR, MAR\n",
    "y_pred = pd.DataFrame(y_pred)\n",
    "\n",
    "test_set = dataset[['participant','mood','eye_l_ratio','eye_r_ratio','mouth_ratio']]\n",
    "test_set = test_set[train_size:X.shape[0]]\n",
    "predictions = test_set[::20]\n",
    "predictions['alert'] = y_pred[[0]].values\n",
    "predictions['drowsy'] = y_pred[[1]].values\n",
    "predictions.to_csv('prediction.csv')"
   ]
  },
  {
   "cell_type": "code",
   "execution_count": null,
   "metadata": {},
   "outputs": [],
   "source": []
  }
 ],
 "metadata": {
  "kernelspec": {
   "display_name": "Python 3",
   "language": "python",
   "name": "python3"
  },
  "language_info": {
   "codemirror_mode": {
    "name": "ipython",
    "version": 3
   },
   "file_extension": ".py",
   "mimetype": "text/x-python",
   "name": "python",
   "nbconvert_exporter": "python",
   "pygments_lexer": "ipython3",
   "version": "3.7.3"
  }
 },
 "nbformat": 4,
 "nbformat_minor": 2
}
